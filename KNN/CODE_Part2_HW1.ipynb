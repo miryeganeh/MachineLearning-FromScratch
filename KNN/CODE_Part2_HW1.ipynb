{
 "cells": [
  {
   "cell_type": "markdown",
   "metadata": {},
   "source": [
    "# Part 2"
   ]
  },
  {
   "cell_type": "code",
   "execution_count": 45,
   "metadata": {},
   "outputs": [],
   "source": [
    "import numpy as np"
   ]
  },
  {
   "cell_type": "markdown",
   "metadata": {},
   "source": [
    "Euclidean distance:"
   ]
  },
  {
   "cell_type": "code",
   "execution_count": 46,
   "metadata": {},
   "outputs": [
    {
     "data": {
      "text/plain": [
       "array([2.        , 1.41421356, 3.16227766])"
      ]
     },
     "execution_count": 46,
     "metadata": {},
     "output_type": "execute_result"
    }
   ],
   "source": [
    "A = np.array([[1.0,2.0], [2.0,3.0], [4.0,5.0]])\n",
    "p = np.array([3.0,2.0])\n",
    "np.linalg.norm(A-p, axis=1)"
   ]
  },
  {
   "cell_type": "markdown",
   "metadata": {},
   "source": [
    "Manhattan distance:"
   ]
  },
  {
   "cell_type": "code",
   "execution_count": 47,
   "metadata": {},
   "outputs": [
    {
     "data": {
      "text/plain": [
       "array([2., 2., 4.])"
      ]
     },
     "execution_count": 47,
     "metadata": {},
     "output_type": "execute_result"
    }
   ],
   "source": [
    "np.abs(A - p).sum(axis=1)"
   ]
  },
  {
   "cell_type": "markdown",
   "metadata": {},
   "source": [
    "Reference: https://stackoverflow.com/questions/47736531/vectorized-matrix-manhattan-distance-in-numpy"
   ]
  },
  {
   "cell_type": "markdown",
   "metadata": {},
   "source": [
    "__Check that results match example.__"
   ]
  },
  {
   "cell_type": "markdown",
   "metadata": {},
   "source": [
    "First with only 4 rows."
   ]
  },
  {
   "cell_type": "code",
   "execution_count": 52,
   "metadata": {},
   "outputs": [
    {
     "name": "stdout",
     "output_type": "stream",
     "text": [
      "33, Federal-gov, Bachelors, Married-civ-spouse, Adm-clerical, White, Male, 42, United-States, >50K\n",
      "47, Federal-gov, Bachelors, Married-civ-spouse, Adm-clerical, White, Male, 45, Germany, >50K\n",
      "48, Federal-gov, Bachelors, Married-civ-spouse, Prof-specialty, White, Male, 44, United-States, >50K\n",
      "45, Federal-gov, Bachelors, Married-civ-spouse, Adm-clerical, White, Male, 45, United-States, <=50K\n"
     ]
    }
   ],
   "source": [
    "!sed -n 4873p income.train.txt.5k\n",
    "!sed -n 4788p income.train.txt.5k\n",
    "!sed -n 2592p income.train.txt.5k\n",
    "!head -1 income.dev.txt"
   ]
  },
  {
   "cell_type": "code",
   "execution_count": 56,
   "metadata": {},
   "outputs": [],
   "source": [
    "import os\n"
   ]
  },
  {
   "cell_type": "code",
   "execution_count": 68,
   "metadata": {},
   "outputs": [],
   "source": [
    "x=os.popen('head -1 income.dev.txt')\n",
    "result = x.read()"
   ]
  },
  {
   "cell_type": "code",
   "execution_count": 41,
   "metadata": {},
   "outputs": [],
   "source": [
    "train_lines = open(\"income.train.txt.5k\").readlines()\n",
    "train_lines = [line.strip().split(\", \") for line in train_lines]\n",
    "dev_lines = open(\"income.dev.txt\").readlines()\n",
    "dev_lines = [line.strip().split(\", \") for line in dev_lines]\n",
    "\n",
    "scope_lines = dev_lines[0:1] + train_lines[4872:4873] + train_lines[4787:4788] + train_lines[2591:2592]\n",
    "\n",
    "train_data = [[value for idx, value in enumerate(line) if idx not in [0,7,9]] for line in scope_lines] # index 0, 7 are not categorical fields, 9 is target\n",
    "\n",
    "mapping = {}\n",
    "new_data = []\n",
    "\n",
    "for row in train_data:\n",
    "    new_row = []\n",
    "    for j, x in enumerate(row):\n",
    "        feature = (j, x)\n",
    "        if feature not in mapping:\n",
    "            mapping[feature] = len(mapping) # insert a new feature into the index\n",
    "        new_row.append(mapping[feature])\n",
    "    new_data.append(new_row)\n",
    "    \n",
    "num_data = 4\n",
    "num_features = 90\n",
    "\n",
    "binary_data = np.zeros((num_data, num_features + 2))\n",
    "# store normalized numerical values\n",
    "for idx, row in enumerate(new_data):\n",
    "  for jdx in row:\n",
    "    binary_data[idx][jdx] = 1\n",
    "  binary_data[idx][num_features] = int(scope_lines[idx][0]) / 50\n",
    "  binary_data[idx][num_features + 1] = int(scope_lines[idx][7]) / 50\n",
    "    \n",
    "scope_bin = binary_data"
   ]
  },
  {
   "cell_type": "code",
   "execution_count": 48,
   "metadata": {},
   "outputs": [
    {
     "name": "stdout",
     "output_type": "stream",
     "text": [
      "[[1. 1. 1. 1. 1. 1. 1. 0. 0. 0. 0. 0. 0. 0. 0. 0. 0. 0. 0. 0. 0. 0. 0. 0.\n",
      "  0. 0. 0. 0. 0. 0. 0. 0. 0. 0. 0. 0. 0. 0. 0. 0. 0. 0. 0. 0. 0. 0. 0. 0.\n",
      "  0. 0. 0. 0. 0. 0. 0. 0. 0. 0. 0. 0. 0. 0. 0. 0. 0. 0. 0. 0. 0. 0. 0. 0.\n",
      "  0. 0. 0. 0. 0. 0. 0. 0. 0. 0. 0. 0. 0. 0. 0. 0. 0. 0. 0. 0.]\n",
      " [1. 1. 1. 1. 1. 1. 0. 1. 0. 0. 0. 0. 0. 0. 0. 0. 0. 0. 0. 0. 0. 0. 0. 0.\n",
      "  0. 0. 0. 0. 0. 0. 0. 0. 0. 0. 0. 0. 0. 0. 0. 0. 0. 0. 0. 0. 0. 0. 0. 0.\n",
      "  0. 0. 0. 0. 0. 0. 0. 0. 0. 0. 0. 0. 0. 0. 0. 0. 0. 0. 0. 0. 0. 0. 0. 0.\n",
      "  0. 0. 0. 0. 0. 0. 0. 0. 0. 0. 0. 0. 0. 0. 0. 0. 0. 0. 0. 0.]\n",
      " [1. 1. 1. 0. 1. 1. 1. 0. 1. 0. 0. 0. 0. 0. 0. 0. 0. 0. 0. 0. 0. 0. 0. 0.\n",
      "  0. 0. 0. 0. 0. 0. 0. 0. 0. 0. 0. 0. 0. 0. 0. 0. 0. 0. 0. 0. 0. 0. 0. 0.\n",
      "  0. 0. 0. 0. 0. 0. 0. 0. 0. 0. 0. 0. 0. 0. 0. 0. 0. 0. 0. 0. 0. 0. 0. 0.\n",
      "  0. 0. 0. 0. 0. 0. 0. 0. 0. 0. 0. 0. 0. 0. 0. 0. 0. 0. 0. 0.]]\n",
      "[1. 1. 1. 1. 1. 1. 1. 0. 0. 0. 0. 0. 0. 0. 0. 0. 0. 0. 0. 0. 0. 0. 0. 0.\n",
      " 0. 0. 0. 0. 0. 0. 0. 0. 0. 0. 0. 0. 0. 0. 0. 0. 0. 0. 0. 0. 0. 0. 0. 0.\n",
      " 0. 0. 0. 0. 0. 0. 0. 0. 0. 0. 0. 0. 0. 0. 0. 0. 0. 0. 0. 0. 0. 0. 0. 0.\n",
      " 0. 0. 0. 0. 0. 0. 0. 0. 0. 0. 0. 0. 0. 0. 0. 0. 0. 0. 0. 0.]\n"
     ]
    }
   ],
   "source": [
    "A = scope_bin[1:4]\n",
    "p = scope_bin[0]\n",
    "print(A)\n",
    "print(p)"
   ]
  },
  {
   "cell_type": "code",
   "execution_count": 43,
   "metadata": {},
   "outputs": [
    {
     "data": {
      "text/plain": [
       "array([0., 2., 2.])"
      ]
     },
     "execution_count": 43,
     "metadata": {},
     "output_type": "execute_result"
    }
   ],
   "source": [
    "man_dist = np.abs(A - p).sum(axis=1)\n",
    "man_dist"
   ]
  },
  {
   "cell_type": "code",
   "execution_count": 44,
   "metadata": {},
   "outputs": [
    {
     "data": {
      "text/plain": [
       "array([0.        , 1.41421356, 1.41421356])"
      ]
     },
     "execution_count": 44,
     "metadata": {},
     "output_type": "execute_result"
    }
   ],
   "source": [
    "eucl_dist = np.linalg.norm(A-p, axis=1)\n",
    "eucl_dist"
   ]
  },
  {
   "cell_type": "markdown",
   "metadata": {},
   "source": [
    "__Repeat with the entire set.__"
   ]
  },
  {
   "cell_type": "code",
   "execution_count": 8,
   "metadata": {},
   "outputs": [
    {
     "data": {
      "text/plain": [
       "array([[1., 1., 1., ..., 0., 0., 0.],\n",
       "       [0., 1., 1., ..., 0., 1., 0.],\n",
       "       [0., 0., 0., ..., 0., 0., 0.],\n",
       "       ...,\n",
       "       [0., 0., 1., ..., 0., 1., 0.],\n",
       "       [0., 1., 0., ..., 0., 0., 0.],\n",
       "       [0., 0., 0., ..., 0., 0., 0.]])"
      ]
     },
     "execution_count": 8,
     "metadata": {},
     "output_type": "execute_result"
    }
   ],
   "source": [
    "train_lines = open(\"income.train.txt.5k\").readlines()\n",
    "train_lines = [line.strip().split(\", \") for line in train_lines]\n",
    "dev_lines = open(\"income.dev.txt\").readlines()\n",
    "dev_lines = [line.strip().split(\", \") for line in dev_lines]\n",
    "\n",
    "scope_lines = dev_lines[0:1] + train_lines[0:5000]\n",
    "\n",
    "train_data = [[value for idx, value in enumerate(line) if idx not in [0,7,9]] for line in scope_lines] # index 0, 7 are not categorical fields, 9 is target\n",
    "\n",
    "mapping = {}\n",
    "new_data = []\n",
    "\n",
    "for row in train_data:\n",
    "    new_row = []\n",
    "    for j, x in enumerate(row):\n",
    "        feature = (j, x)\n",
    "        if feature not in mapping:\n",
    "            mapping[feature] = len(mapping) # insert a new feature into the index\n",
    "        new_row.append(mapping[feature])\n",
    "    new_data.append(new_row)\n",
    "    \n",
    "num_data = 5001\n",
    "num_features = 90\n",
    "\n",
    "binary_data = np.zeros((num_data, num_features + 2))\n",
    "# store normalized numerical values\n",
    "for idx, row in enumerate(new_data):\n",
    "  for jdx in row:\n",
    "    binary_data[idx][jdx] = 1\n",
    "  binary_data[idx][num_features] = int(scope_lines[idx][0]) / 50\n",
    "  binary_data[idx][num_features + 1] = int(scope_lines[idx][7]) / 50\n",
    "    \n",
    "scope_bin = binary_data\n",
    "scope_bin"
   ]
  },
  {
   "cell_type": "code",
   "execution_count": 9,
   "metadata": {},
   "outputs": [],
   "source": [
    "A = scope_bin[1:5000]\n",
    "p = scope_bin[0]"
   ]
  },
  {
   "cell_type": "code",
   "execution_count": 10,
   "metadata": {},
   "outputs": [],
   "source": [
    "man_dist = np.abs(A[:,None] - p).sum(-1)\n",
    "man_dist = [val for sublist in man_dist for val in sublist]\n",
    "man_dist = np.array(man_dist)"
   ]
  },
  {
   "cell_type": "code",
   "execution_count": 11,
   "metadata": {},
   "outputs": [
    {
     "data": {
      "text/plain": [
       "array([1041,  295, 4872])"
      ]
     },
     "execution_count": 11,
     "metadata": {},
     "output_type": "execute_result"
    }
   ],
   "source": [
    "index = np.argpartition(man_dist, 3)[0:3]\n",
    "index"
   ]
  },
  {
   "cell_type": "code",
   "execution_count": 12,
   "metadata": {},
   "outputs": [
    {
     "data": {
      "text/plain": [
       "array([2., 2., 0.])"
      ]
     },
     "execution_count": 12,
     "metadata": {},
     "output_type": "execute_result"
    }
   ],
   "source": [
    "man_dist[index]"
   ]
  },
  {
   "cell_type": "code",
   "execution_count": 13,
   "metadata": {},
   "outputs": [],
   "source": [
    "eucl_dist = np.linalg.norm(A-p, axis=1)"
   ]
  },
  {
   "cell_type": "code",
   "execution_count": 14,
   "metadata": {},
   "outputs": [
    {
     "data": {
      "text/plain": [
       "array([1041,  295, 4872])"
      ]
     },
     "execution_count": 14,
     "metadata": {},
     "output_type": "execute_result"
    }
   ],
   "source": [
    "index = np.argpartition(eucl_dist, 3)[0:3]\n",
    "index"
   ]
  },
  {
   "cell_type": "code",
   "execution_count": 15,
   "metadata": {},
   "outputs": [
    {
     "data": {
      "text/plain": [
       "array([1.41421356, 1.41421356, 0.        ])"
      ]
     },
     "execution_count": 15,
     "metadata": {},
     "output_type": "execute_result"
    }
   ],
   "source": [
    "eucl_dist[index]"
   ]
  },
  {
   "cell_type": "markdown",
   "metadata": {},
   "source": [
    "References:\n",
    "https://www.quora.com/How-can-I-drop-brackets-in-a-Python-list-in-order-to-go-from-1-2-3-to-1-2-3?share=1\n",
    "https://stackoverflow.com/questions/34226400/find-the-index-of-the-k-smallest-values-of-a-numpy-array"
   ]
  },
  {
   "cell_type": "markdown",
   "metadata": {},
   "source": [
    "## Question 1"
   ]
  },
  {
   "cell_type": "code",
   "execution_count": 16,
   "metadata": {},
   "outputs": [
    {
     "data": {
      "text/plain": [
       "array([[1., 1., 1., ..., 0., 1., 0.],\n",
       "       [0., 0., 0., ..., 0., 1., 0.],\n",
       "       [1., 1., 0., ..., 0., 0., 0.],\n",
       "       ...,\n",
       "       [1., 1., 0., ..., 0., 1., 0.],\n",
       "       [1., 0., 0., ..., 0., 0., 0.],\n",
       "       [1., 0., 0., ..., 0., 0., 0.]])"
      ]
     },
     "execution_count": 16,
     "metadata": {},
     "output_type": "execute_result"
    }
   ],
   "source": [
    "train_lines = open(\"income.train.txt.5k\").readlines()\n",
    "train_lines = [line.strip().split(\", \") for line in train_lines]\n",
    "dev_lines = open(\"income.dev.txt\").readlines()\n",
    "dev_lines = [line.strip().split(\", \") for line in dev_lines]\n",
    "\n",
    "scope_lines = dev_lines[999:1000] + train_lines[0:5000]\n",
    "\n",
    "train_data = [[value for idx, value in enumerate(line) if idx not in [0,7,9]] for line in scope_lines] # index 0, 7 are not categorical fields, 9 is target\n",
    "\n",
    "mapping = {}\n",
    "new_data = []\n",
    "\n",
    "for row in train_data:\n",
    "    new_row = []\n",
    "    for j, x in enumerate(row):\n",
    "        feature = (j, x)\n",
    "        if feature not in mapping:\n",
    "            mapping[feature] = len(mapping) # insert a new feature into the index\n",
    "        new_row.append(mapping[feature])\n",
    "    new_data.append(new_row)\n",
    "    \n",
    "num_data = 5001\n",
    "num_features = 90\n",
    "\n",
    "binary_data = np.zeros((num_data, num_features + 2))\n",
    "# store normalized numerical values\n",
    "for idx, row in enumerate(new_data):\n",
    "  for jdx in row:\n",
    "    binary_data[idx][jdx] = 1\n",
    "  binary_data[idx][num_features] = int(scope_lines[idx][0]) / 50\n",
    "  binary_data[idx][num_features + 1] = int(scope_lines[idx][7]) / 50\n",
    "    \n",
    "scope_bin = binary_data\n",
    "scope_bin"
   ]
  },
  {
   "cell_type": "code",
   "execution_count": 17,
   "metadata": {},
   "outputs": [],
   "source": [
    "A = scope_bin[1:5000]\n",
    "p = scope_bin[0]"
   ]
  },
  {
   "cell_type": "code",
   "execution_count": 18,
   "metadata": {},
   "outputs": [
    {
     "data": {
      "text/plain": [
       "array([3.16227766, 2.64575131, 3.16227766, ..., 3.        , 1.41421356,\n",
       "       3.        ])"
      ]
     },
     "execution_count": 18,
     "metadata": {},
     "output_type": "execute_result"
    }
   ],
   "source": [
    "eucl_dist = np.linalg.norm(A-p, axis=1)\n",
    "eucl_dist"
   ]
  },
  {
   "cell_type": "code",
   "execution_count": 19,
   "metadata": {},
   "outputs": [
    {
     "data": {
      "text/plain": [
       "array([1010, 2450, 3769, 1713, 2003,  681])"
      ]
     },
     "execution_count": 19,
     "metadata": {},
     "output_type": "execute_result"
    }
   ],
   "source": [
    "index = np.argpartition(eucl_dist, 5)[0:6]\n",
    "index"
   ]
  },
  {
   "cell_type": "code",
   "execution_count": 20,
   "metadata": {},
   "outputs": [
    {
     "data": {
      "text/plain": [
       "array([0., 0., 0., 0., 0., 1.])"
      ]
     },
     "execution_count": 20,
     "metadata": {},
     "output_type": "execute_result"
    }
   ],
   "source": [
    "eucl_dist[index]"
   ]
  },
  {
   "cell_type": "markdown",
   "metadata": {},
   "source": [
    "## Question 2"
   ]
  },
  {
   "cell_type": "code",
   "execution_count": 21,
   "metadata": {},
   "outputs": [
    {
     "data": {
      "text/plain": [
       "array([10.,  7., 10., ...,  9.,  2.,  9.])"
      ]
     },
     "execution_count": 21,
     "metadata": {},
     "output_type": "execute_result"
    }
   ],
   "source": [
    "man_dist = np.abs(A[:,None] - p).sum(-1)\n",
    "man_dist = [val for sublist in man_dist for val in sublist]\n",
    "man_dist = np.array(man_dist)\n",
    "man_dist"
   ]
  },
  {
   "cell_type": "code",
   "execution_count": 22,
   "metadata": {},
   "outputs": [
    {
     "data": {
      "text/plain": [
       "array([1010, 2450, 3769, 1713, 2003,  681])"
      ]
     },
     "execution_count": 22,
     "metadata": {},
     "output_type": "execute_result"
    }
   ],
   "source": [
    "index = np.argpartition(man_dist, 5)[0:6]\n",
    "index"
   ]
  },
  {
   "cell_type": "code",
   "execution_count": 23,
   "metadata": {},
   "outputs": [
    {
     "data": {
      "text/plain": [
       "array([0., 0., 0., 0., 0., 1.])"
      ]
     },
     "execution_count": 23,
     "metadata": {},
     "output_type": "execute_result"
    }
   ],
   "source": [
    "man_dist[index]"
   ]
  },
  {
   "cell_type": "markdown",
   "metadata": {},
   "source": [
    "## Question 4"
   ]
  },
  {
   "cell_type": "code",
   "execution_count": 24,
   "metadata": {},
   "outputs": [
    {
     "data": {
      "text/plain": [
       "array([1010, 2450, 3769, 1713, 2003,  681, 3680, 3698, 3526, 2922])"
      ]
     },
     "execution_count": 24,
     "metadata": {},
     "output_type": "execute_result"
    }
   ],
   "source": [
    "index = np.argpartition(eucl_dist, 9)[0:10]\n",
    "index"
   ]
  },
  {
   "cell_type": "code",
   "execution_count": 25,
   "metadata": {},
   "outputs": [
    {
     "data": {
      "text/plain": [
       "array([0.        , 0.        , 0.        , 0.        , 0.        ,\n",
       "       1.        , 1.        , 1.        , 1.41421356, 1.41421356])"
      ]
     },
     "execution_count": 25,
     "metadata": {},
     "output_type": "execute_result"
    }
   ],
   "source": [
    "eucl_dist[index]"
   ]
  },
  {
   "cell_type": "code",
   "execution_count": 26,
   "metadata": {},
   "outputs": [
    {
     "data": {
      "text/plain": [
       "array([10.,  7., 10., ...,  9.,  2.,  9.])"
      ]
     },
     "execution_count": 26,
     "metadata": {},
     "output_type": "execute_result"
    }
   ],
   "source": [
    "man_dist = np.abs(A[:,None] - p).sum(-1)\n",
    "man_dist = [val for sublist in man_dist for val in sublist]\n",
    "man_dist = np.array(man_dist)\n",
    "man_dist"
   ]
  },
  {
   "cell_type": "code",
   "execution_count": 27,
   "metadata": {},
   "outputs": [
    {
     "data": {
      "text/plain": [
       "array([1010, 2450, 3769, 1713, 2003,  681, 3680, 3698, 3526, 2922])"
      ]
     },
     "execution_count": 27,
     "metadata": {},
     "output_type": "execute_result"
    }
   ],
   "source": [
    "index = np.argpartition(man_dist, 9)[0:10]\n",
    "index"
   ]
  },
  {
   "cell_type": "code",
   "execution_count": 28,
   "metadata": {},
   "outputs": [
    {
     "data": {
      "text/plain": [
       "array([0., 0., 0., 0., 0., 1., 1., 1., 2., 2.])"
      ]
     },
     "execution_count": 28,
     "metadata": {},
     "output_type": "execute_result"
    }
   ],
   "source": [
    "man_dist[index]"
   ]
  }
 ],
 "metadata": {
  "kernelspec": {
   "display_name": "Python 3",
   "language": "python",
   "name": "python3"
  },
  "language_info": {
   "codemirror_mode": {
    "name": "ipython",
    "version": 2
   },
   "file_extension": ".py",
   "mimetype": "text/x-python",
   "name": "python",
   "nbconvert_exporter": "python",
   "pygments_lexer": "ipython2",
   "version": "2.7.17"
  }
 },
 "nbformat": 4,
 "nbformat_minor": 2
}
