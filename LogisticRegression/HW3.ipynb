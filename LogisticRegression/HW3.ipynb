{
 "cells": [
  {
   "cell_type": "code",
   "execution_count": null,
   "metadata": {},
   "outputs": [],
   "source": []
  },
  {
   "cell_type": "code",
   "execution_count": null,
   "metadata": {},
   "outputs": [],
   "source": []
  },
  {
   "cell_type": "code",
   "execution_count": 106,
   "metadata": {},
   "outputs": [],
   "source": [
    "#!/usr/bin/env python3\n",
    "\n",
    "# References:\n",
    "# https://towardsdatascience.com/a-beginners-guide-to-linear-regression-in-python-with-scikit-learn-83a8f7ae2b4f\n",
    "# https://www.kaggle.com/marknagelberg/rmsle-function\n",
    "\n",
    "\n",
    "from collections import defaultdict\n",
    "import numpy as np\n",
    "import math\n",
    "import pandas as pd\n",
    "import os\n",
    "import csv\n",
    "from sklearn.linear_model import LinearRegression, Ridge\n",
    "\n",
    "\n",
    "# os.chdir(\"/home/minion/Desktop/ML/HW3\")\n",
    "\n",
    "\n",
    "def process_data(filename, feature_map):\n",
    "    X, Y = [], []\n",
    "    for j, line in enumerate(open(filename)):\n",
    "        if j != 0:\n",
    "            line = line.strip()\n",
    "            features = line.split(\",\")\n",
    "            feat_vec = np.zeros(len(feature_map))\n",
    "            for i, fv in enumerate(features[1:-1]):  # last one is target\n",
    "                if (i, fv) in feature_map:  # ignore unobserved features\n",
    "                    feat_vec[feature_map[i, fv]] = 1\n",
    "\n",
    "            X.append(feat_vec)\n",
    "            if features[-1].isdigit():\n",
    "                Y.append(int(features[-1]))  # fake for testdata\n",
    "\n",
    "    return np.array(X), np.array(Y)\n",
    "\n",
    "\n",
    "# A function to calculate Root Mean Squared Logarithmic Error (RMSLE)\n",
    "def rmsle(y, y_pred):\n",
    "    assert len(y) == len(y_pred)\n",
    "    terms_to_sum = [(math.log(y_pred[i] + 1) - math.log(y[i] + 1)) ** 2.0 for i, pred in enumerate(y_pred)]\n",
    "    return (sum(terms_to_sum)/ len(y)) ** 0.5\n",
    "\n",
    "\n",
    "def binarize(filename):\n",
    "    field_value_freqs = defaultdict(lambda: defaultdict(int))  # field_id -> value -> freq\n",
    "    for i, line in enumerate(open(filename)):\n",
    "        if i != 0:\n",
    "            line = line.strip()\n",
    "            features = line.split(\",\")[1:-1]  # exclude target label\n",
    "            for i, fv in enumerate(features):\n",
    "                field_value_freqs[i][fv] += 1\n",
    "\n",
    "    feature_map = {}\n",
    "    feature_remap = {}    \n",
    "    for i, value_freqs in field_value_freqs.items():\n",
    "        for v in value_freqs:\n",
    "            k = len(feature_map)  # bias\n",
    "            feature_map[i, v] = k\n",
    "            feature_remap[k] = i,v    \n",
    "    dimension = len(feature_map)  # bias\n",
    "    print(\"dimensionality: %d\" % dimension)  # feature_map\n",
    "\n",
    "    return feature_map, feature_remap"
   ]
  },
  {
   "cell_type": "code",
   "execution_count": 107,
   "metadata": {},
   "outputs": [
    {
     "name": "stdout",
     "output_type": "stream",
     "text": [
      "\n",
      "Experiment with my_train and my_dev (for calibration)\n",
      "dimensionality: 7227\n",
      "(0, '120')\n"
     ]
    },
    {
     "data": {
      "text/plain": [
       "76"
      ]
     },
     "execution_count": 107,
     "metadata": {},
     "output_type": "execute_result"
    }
   ],
   "source": [
    "# _________________________ Start with my_train and my_dev for calibration.\n",
    "print(\"\\nExperiment with my_train and my_dev (for calibration)\")\n",
    "# Create feature map.\n",
    "feature_map, feature_remap = binarize(\"my_train.csv\")\n",
    "\n",
    "# Binarize data.\n",
    "train_X, train_Y = process_data(\"my_train.csv\",feature_map)\n",
    "dev_X, dev_Y = process_data(\"my_dev.csv\",feature_map)\n",
    "\n",
    "df = pd.DataFrame(dev_X)\n",
    "print(feature_remap[6])\n",
    "list(df.iloc[4,:]).count(1)\n",
    "# train_X"
   ]
  },
  {
   "cell_type": "code",
   "execution_count": 110,
   "metadata": {},
   "outputs": [
    {
     "name": "stdout",
     "output_type": "stream",
     "text": [
      "rmsle 0.16951898652376277\n"
     ]
    }
   ],
   "source": [
    "# Run linear regression.\n",
    "lm = LinearRegression(normalize=True)\n",
    "lm.fit(train_X, train_Y)\n",
    "\n",
    "# Get predictions.\n",
    "dev_predictions = lm.predict(dev_X)\n",
    "\n",
    "# Here, we should calculate the results with the rmlse function,\n",
    "# by comparing against dev_Y.\n",
    "print(\"rmsle\",rmsle(dev_predictions, dev_Y))"
   ]
  },
  {
   "cell_type": "code",
   "execution_count": 97,
   "metadata": {},
   "outputs": [
    {
     "name": "stdout",
     "output_type": "stream",
     "text": [
      "\n",
      "Experiment with train and test (for Kaggle submission)\n",
      "dimensionality: 7648\n",
      "7648\n"
     ]
    }
   ],
   "source": [
    "# _________________________ After calibration, run regression on actual Kaggle data.\n",
    "print(\"\\nExperiment with train and test (for Kaggle submission)\")\n",
    "\n",
    "# Create feature map.\n",
    "feature_map, feature_remap = binarize(\"train.csv\")\n",
    "\n",
    "print(len(feature_map))\n",
    "# Binarize data.\n",
    "train_X, train_Y = process_data(\"train.csv\", feature_map)\n",
    "test_X, _ = process_data(\"test.csv\", feature_map)\n",
    "\n",
    "\n",
    "# Run linear regression.\n",
    "lm = LinearRegression()\n",
    "lm.fit(train_X, train_Y)\n",
    "\n",
    "# Get predictions.\n",
    "predictions = lm.predict(test_X)"
   ]
  },
  {
   "cell_type": "code",
   "execution_count": 98,
   "metadata": {
    "scrolled": false
   },
   "outputs": [],
   "source": [
    "# Once the Kaggle predictions are ready, print them along with the house ids\n",
    "# to match the submission format.\n",
    "\n",
    "house_ids = []\n",
    "for line in open(\"test.csv\"):\n",
    "    line = line.strip()\n",
    "    house_id = line.split(\",\")[0]\n",
    "    if house_id.isdigit():\n",
    "        house_ids.append(int(house_id))\n",
    "\n",
    "\n",
    "counter = 0\n",
    "results = dict(zip(house_ids, predictions))\n",
    "with open('predictions.csv', 'w') as csv_file:\n",
    "    csv_file.write(\"Id,SalePrice\\n\")  ## Issue here: the string is getting printed with quotes, but it should print without.\n",
    "    for key, value in results.items():\n",
    "        csv_file.write(f\"{key}, {value}\\n\")\n",
    "\n",
    "\n",
    "# Extra code, probably not needed now.\n",
    "#     print(rmsle(dev_Y, predictions))\n",
    "#     print(np.sqrt(np.mean((predictions - log_yDev) ** 2)))\n",
    "\n",
    "#     from sklearn.metrics import mean_squared_error\n",
    "#     from math import sqrt\n",
    "#     rmse = sqrt(mean_squared_error(log_yDev, predictions))\n",
    "#     print(rmse)\n",
    "\n",
    "#     lm = LinearRegression()\n",
    "#     lm.fit(xTrain, yTrain)\n",
    "\n",
    "#     predictions = lm.predict(xDev)\n",
    "#     print(np.sqrt(np.mean((np.log(predictions) - np.log(yDev)) ** 2)))\n",
    "#     rmsle = sqrt(mean_squared_error(np.log(predictions), np.log(yDev)))\n",
    "#     print(rmsle)\n",
    "\n",
    "#     lm = LinearRegression()\n",
    "#     lm.fit(xTrain, yTrain)\n",
    "#     predictions = lm.predict(xTest)"
   ]
  },
  {
   "cell_type": "code",
   "execution_count": null,
   "metadata": {},
   "outputs": [],
   "source": []
  }
 ],
 "metadata": {
  "kernelspec": {
   "display_name": "Python 3",
   "language": "python",
   "name": "python3"
  },
  "language_info": {
   "codemirror_mode": {
    "name": "ipython",
    "version": 3
   },
   "file_extension": ".py",
   "mimetype": "text/x-python",
   "name": "python",
   "nbconvert_exporter": "python",
   "pygments_lexer": "ipython3",
   "version": "3.7.6"
  }
 },
 "nbformat": 4,
 "nbformat_minor": 4
}
